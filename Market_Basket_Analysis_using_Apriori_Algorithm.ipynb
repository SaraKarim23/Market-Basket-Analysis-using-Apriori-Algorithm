{
  "nbformat": 4,
  "nbformat_minor": 0,
  "metadata": {
    "colab": {
      "name": "Market Basket Analysis using Apriori Algorithm.ipynb",
      "provenance": [],
      "collapsed_sections": [],
      "mount_file_id": "1baW44Bje6xp3vXE6ftv8rx1iJFJCC-Rg",
      "authorship_tag": "ABX9TyMKPZfZg3cQ20avnrEBcw10",
      "include_colab_link": true
    },
    "kernelspec": {
      "name": "python3",
      "display_name": "Python 3"
    },
    "language_info": {
      "name": "python"
    }
  },
  "cells": [
    {
      "cell_type": "markdown",
      "metadata": {
        "id": "view-in-github",
        "colab_type": "text"
      },
      "source": [
        "<a href=\"https://colab.research.google.com/github/SaraKarim23/Market-Basket-Analysis-using-Apriori-Algorithm/blob/main/Market_Basket_Analysis_using_Apriori_Algorithm.ipynb\" target=\"_parent\"><img src=\"https://colab.research.google.com/assets/colab-badge.svg\" alt=\"Open In Colab\"/></a>"
      ]
    },
    {
      "cell_type": "code",
      "metadata": {
        "id": "phuLEtQtjA_0"
      },
      "source": [
        "#Loading neccesary packages\n",
        "import numpy as np\n",
        "import pandas as pd\n",
        "from mlxtend.frequent_patterns import apriori\n",
        "from mlxtend.frequent_patterns import association_rules"
      ],
      "execution_count": null,
      "outputs": []
    },
    {
      "cell_type": "code",
      "metadata": {
        "id": "0fQVwLWrClu4"
      },
      "source": [
        "#Reading Data From Web\n",
        "#myretaildata = pd.read_excel('http://archive.ics.uci.edu/ml/machine-learning-databases/00352/Online%20Retail.xlsx')\n",
        "#myretaildata.head()\n",
        "\n",
        "myretaildata = pd.read_csv(\"/content/drive/MyDrive/MBA.csv\")\n",
        "myretaildata.head()"
      ],
      "execution_count": null,
      "outputs": []
    },
    {
      "cell_type": "code",
      "metadata": {
        "id": "00Y4UlGPCnnE"
      },
      "source": [
        "#Data Cleaning\n",
        "myretaildata['Description'] = myretaildata['Description'].str.strip() #removes spaces from beginning and end\n",
        "myretaildata.dropna(axis=0, subset=['InvoiceNo'], inplace=True) #removes duplicate invoice\n",
        "myretaildata['InvoiceNo'] = myretaildata['InvoiceNo'].astype('str') #converting invoice number to be string\n",
        "myretaildata = myretaildata[~myretaildata['InvoiceNo'].str.contains('C')] #remove the credit transactions \n",
        "myretaildata.head()"
      ],
      "execution_count": null,
      "outputs": []
    },
    {
      "cell_type": "code",
      "metadata": {
        "id": "IxldyjgVCpWd",
        "colab": {
          "base_uri": "https://localhost:8080/"
        },
        "outputId": "f4146b3d-9e60-47e8-e34e-dd0f40266cb7"
      },
      "source": [
        "#myretaildata['Country'].value_counts()\n",
        "myretaildata.shape"
      ],
      "execution_count": null,
      "outputs": [
        {
          "output_type": "execute_result",
          "data": {
            "text/plain": [
              "(7500, 20)"
            ]
          },
          "metadata": {
            "tags": []
          },
          "execution_count": 8
        }
      ]
    },
    {
      "cell_type": "code",
      "metadata": {
        "id": "J1gdkAe3Crcn"
      },
      "source": [
        "#viewing transaction basket\n",
        "mybasket.head()"
      ],
      "execution_count": null,
      "outputs": []
    },
    {
      "cell_type": "code",
      "metadata": {
        "id": "sCa4imixCwKi"
      },
      "source": [
        "#converting all positive vaues to 1 and everything else to 0\n",
        "def my_encode_units(x):\n",
        "    if x <= 0:\n",
        "        return 0\n",
        "    if x >= 1:\n",
        "        return 1\n",
        "\n",
        "my_basket_sets = mybasket.applymap(my_encode_units)\n",
        "my_basket_sets.drop('POSTAGE', inplace=True, axis=1) #Remove \"postage\" as an item"
      ],
      "execution_count": null,
      "outputs": []
    },
    {
      "cell_type": "code",
      "metadata": {
        "id": "bAW9CgUNCyuC"
      },
      "source": [
        "#Generatig frequent itemsets\n",
        "my_frequent_itemsets = apriori(my_basket_sets, min_support=0.07, use_colnames=True)"
      ],
      "execution_count": null,
      "outputs": []
    },
    {
      "cell_type": "code",
      "metadata": {
        "id": "UYM08eyeCzQq"
      },
      "source": [
        "#generating rules\n",
        "my_rules = association_rules(my_frequent_itemsets, metric=\"lift\", min_threshold=1)"
      ],
      "execution_count": null,
      "outputs": []
    },
    {
      "cell_type": "code",
      "metadata": {
        "id": "m7-6D9aGC1aq"
      },
      "source": [
        "#viewing top 100 rules\n",
        "my_rules.head(100)"
      ],
      "execution_count": null,
      "outputs": []
    },
    {
      "cell_type": "code",
      "metadata": {
        "id": "0RDA8ISHC4in"
      },
      "source": [
        "my_basket_sets['ROUND SNACK BOXES SET OF4 WOODLAND'].sum()"
      ],
      "execution_count": null,
      "outputs": []
    },
    {
      "cell_type": "code",
      "metadata": {
        "id": "q3HOaziwC5Mr"
      },
      "source": [
        "my_basket_sets['SPACEBOY LUNCH BOX'].sum()"
      ],
      "execution_count": null,
      "outputs": []
    },
    {
      "cell_type": "code",
      "metadata": {
        "id": "lj9eFoNMC9X0"
      },
      "source": [
        "#Filtering rules based on condition\n",
        "my_rules[ (my_rules['lift'] >= 3) &\n",
        "       (my_rules['confidence'] >= 0.3) ]"
      ],
      "execution_count": null,
      "outputs": []
    }
  ]
}